{
 "cells": [
  {
   "cell_type": "code",
   "execution_count": 3,
   "id": "52bba8b5-3577-4d8a-a73f-abb4dd362205",
   "metadata": {},
   "outputs": [],
   "source": [
    "import numpy as np "
   ]
  },
  {
   "cell_type": "code",
   "execution_count": 4,
   "id": "39ea9616-a4f4-4ece-a257-e57225f5eefc",
   "metadata": {},
   "outputs": [],
   "source": [
    "u = np.array([1,2,3,4,5])"
   ]
  },
  {
   "cell_type": "code",
   "execution_count": 5,
   "id": "c05d6a75-e1de-43a5-8ed8-d8421951cf6a",
   "metadata": {},
   "outputs": [],
   "source": [
    "v = np.array([10,221,30,48,54])"
   ]
  },
  {
   "cell_type": "code",
   "execution_count": 6,
   "id": "a333683e-3dbd-4c88-8bd9-14a56b48061b",
   "metadata": {},
   "outputs": [
    {
     "data": {
      "text/plain": [
       "(5,)"
      ]
     },
     "execution_count": 6,
     "metadata": {},
     "output_type": "execute_result"
    }
   ],
   "source": [
    "v.shape"
   ]
  },
  {
   "cell_type": "code",
   "execution_count": 7,
   "id": "a88abb78-02ad-49ac-9b13-58f50f6b6288",
   "metadata": {},
   "outputs": [
    {
     "data": {
      "text/plain": [
       "5"
      ]
     },
     "execution_count": 7,
     "metadata": {},
     "output_type": "execute_result"
    }
   ],
   "source": [
    "v.shape[0]\n",
    "u.shape[0]"
   ]
  },
  {
   "cell_type": "code",
   "execution_count": 8,
   "id": "3ca8d559-c2cd-49e6-a11f-e0997a074f3c",
   "metadata": {},
   "outputs": [],
   "source": [
    "def vector_to_vector_mul(u,v):\n",
    "    assert u.shape[0]== v.shape[0]\n",
    "\n",
    "    n = u.shape[0]\n",
    "    result = 0 \n",
    "    \n",
    "    for i in range(n):\n",
    "        result = u[i] * v[i] + result \n",
    "    return result \n",
    "        "
   ]
  },
  {
   "cell_type": "code",
   "execution_count": 9,
   "id": "ea43c082-02f3-4756-a678-b049d461e831",
   "metadata": {},
   "outputs": [
    {
     "data": {
      "text/plain": [
       "np.int64(1004)"
      ]
     },
     "execution_count": 9,
     "metadata": {},
     "output_type": "execute_result"
    }
   ],
   "source": [
    "vector_to_vector_mul(u,v)"
   ]
  },
  {
   "cell_type": "code",
   "execution_count": 10,
   "id": "3fa9c9cb-1dc8-410c-949b-bd2c0123a7a5",
   "metadata": {},
   "outputs": [
    {
     "data": {
      "text/plain": [
       "np.int64(1004)"
      ]
     },
     "execution_count": 10,
     "metadata": {},
     "output_type": "execute_result"
    }
   ],
   "source": [
    "u.dot(v)"
   ]
  },
  {
   "cell_type": "code",
   "execution_count": 11,
   "id": "66377cc2-2c03-4dcf-bbd1-467d684d0506",
   "metadata": {},
   "outputs": [
    {
     "data": {
      "text/plain": [
       "array([[1, 4, 7, 8],\n",
       "       [5, 4, 3, 5],\n",
       "       [4, 4, 4, 7],\n",
       "       [6, 8, 1, 0]])"
      ]
     },
     "execution_count": 11,
     "metadata": {},
     "output_type": "execute_result"
    }
   ],
   "source": [
    "X = np.random.randint(low=0, high=10, size=(4,4) )\n",
    "X"
   ]
  },
  {
   "cell_type": "code",
   "execution_count": 12,
   "id": "a65a4544-45ea-485b-8069-1305a7cce8e3",
   "metadata": {},
   "outputs": [
    {
     "data": {
      "text/plain": [
       "array([2, 4, 6, 8])"
      ]
     },
     "execution_count": 12,
     "metadata": {},
     "output_type": "execute_result"
    }
   ],
   "source": [
    "Y = np.array([2,4,6,8])\n",
    "Y"
   ]
  },
  {
   "cell_type": "code",
   "execution_count": 13,
   "id": "7ff032b9-878f-40c6-8f4b-c32088a15289",
   "metadata": {},
   "outputs": [],
   "source": [
    "def matrix_to_vector_mul(X,Y):\n",
    "    assert X.shape[0] == Y.shape[0]\n",
    "    num_rows = X.shape[0]\n",
    "\n",
    "    result = np.zeros(num_rows)\n",
    "\n",
    "    for i in range (num_rows):\n",
    "        result[i] = vector_to_vector_mul(X[i],Y)\n",
    "    return result\n",
    "        "
   ]
  },
  {
   "cell_type": "code",
   "execution_count": 14,
   "id": "0b6ddba0-2df5-4bce-8c17-4eeb03fa854a",
   "metadata": {},
   "outputs": [
    {
     "data": {
      "text/plain": [
       "array([5, 4, 3, 5])"
      ]
     },
     "execution_count": 14,
     "metadata": {},
     "output_type": "execute_result"
    }
   ],
   "source": [
    "X[1]"
   ]
  },
  {
   "cell_type": "code",
   "execution_count": 15,
   "id": "0018812c-7f7a-48cb-9243-8d928708b57a",
   "metadata": {},
   "outputs": [
    {
     "data": {
      "text/plain": [
       "array([124.,  84., 104.,  50.])"
      ]
     },
     "execution_count": 15,
     "metadata": {},
     "output_type": "execute_result"
    }
   ],
   "source": [
    "matrix_to_vector_mul(X,Y)"
   ]
  },
  {
   "cell_type": "code",
   "execution_count": 16,
   "id": "fbb67193-c065-4f95-b599-128db675db24",
   "metadata": {},
   "outputs": [
    {
     "data": {
      "text/plain": [
       "array([124,  84, 104,  50])"
      ]
     },
     "execution_count": 16,
     "metadata": {},
     "output_type": "execute_result"
    }
   ],
   "source": [
    "X.dot(Y)"
   ]
  },
  {
   "cell_type": "code",
   "execution_count": 24,
   "id": "eb2ed4d3-d3fa-435f-86fc-83ff7445c153",
   "metadata": {},
   "outputs": [
    {
     "name": "stdout",
     "output_type": "stream",
     "text": [
      "[[ 0 14 14 17]\n",
      " [ 1 14  1 13]\n",
      " [ 4 11  7 16]\n",
      " [ 5 22  0 18]]\n",
      "[[2 2 3 3]\n",
      " [4 5 3 3]\n",
      " [7 3 1 8]\n",
      " [4 1 1 1]]\n"
     ]
    }
   ],
   "source": [
    "U  = np.random.randint(low=0, high=25, size=(4,4) ) \n",
    "V = np.random.randint(low=0, high=10, size=(4,4) )\n",
    "print(f\"{U}\\n{V}\")"
   ]
  },
  {
   "cell_type": "code",
   "execution_count": 27,
   "id": "d2535d24-b0ae-4cb0-978b-e8ecad37a818",
   "metadata": {},
   "outputs": [],
   "source": [
    "def matrix_to_matrix_mul(U,V):\n",
    "    assert U.shape[1] == V.shape[0]\n",
    "\n",
    "    num_rows = U.shape[0]\n",
    "    num_cols = V.shape[1]\n",
    "    result = np.zeros((num_rows,num_cols))\n",
    "\n",
    "    for i in range(num_cols):\n",
    "        vi = V[:,i]\n",
    "        Uvi = matrix_to_vector_mul(U,vi)\n",
    "        result[:,i] = Uvi\n",
    "    return result         "
   ]
  },
  {
   "cell_type": "code",
   "execution_count": 28,
   "id": "ec1779d8-9a6d-4d9e-830a-9f009236e302",
   "metadata": {},
   "outputs": [
    {
     "data": {
      "text/plain": [
       "array([[222., 129.,  73., 171.],\n",
       "       [117.,  88.,  59.,  66.],\n",
       "       [165., 100.,  68., 117.],\n",
       "       [170., 138.,  99.,  99.]])"
      ]
     },
     "execution_count": 28,
     "metadata": {},
     "output_type": "execute_result"
    }
   ],
   "source": [
    "matrix_to_matrix_mul(U,V)"
   ]
  },
  {
   "cell_type": "code",
   "execution_count": 29,
   "id": "c788be40-1af6-4d8a-9c40-7fd6193cae86",
   "metadata": {},
   "outputs": [
    {
     "data": {
      "text/plain": [
       "array([[222, 129,  73, 171],\n",
       "       [117,  88,  59,  66],\n",
       "       [165, 100,  68, 117],\n",
       "       [170, 138,  99,  99]])"
      ]
     },
     "execution_count": 29,
     "metadata": {},
     "output_type": "execute_result"
    }
   ],
   "source": [
    "U.dot(V)"
   ]
  },
  {
   "cell_type": "markdown",
   "id": "ff839d53-ea20-423e-9c87-92cc680bc573",
   "metadata": {},
   "source": [
    "## Identity matrix "
   ]
  },
  {
   "cell_type": "code",
   "execution_count": 32,
   "id": "bfb613e7-669d-4a5e-8c9f-998697faeb9f",
   "metadata": {},
   "outputs": [],
   "source": [
    "ve=np.eye(4)"
   ]
  },
  {
   "cell_type": "code",
   "execution_count": 31,
   "id": "8279ebc3-df36-42f4-83b9-8709d60a9062",
   "metadata": {},
   "outputs": [
    {
     "data": {
      "text/plain": [
       "array([[1., 0., 0., ..., 0., 0., 0.],\n",
       "       [0., 1., 0., ..., 0., 0., 0.],\n",
       "       [0., 0., 1., ..., 0., 0., 0.],\n",
       "       ...,\n",
       "       [0., 0., 0., ..., 1., 0., 0.],\n",
       "       [0., 0., 0., ..., 0., 1., 0.],\n",
       "       [0., 0., 0., ..., 0., 0., 1.]], shape=(100, 100))"
      ]
     },
     "execution_count": 31,
     "metadata": {},
     "output_type": "execute_result"
    }
   ],
   "source": [
    "np.eye(100)"
   ]
  },
  {
   "cell_type": "code",
   "execution_count": 33,
   "id": "3a1e83b1-57cc-4986-b6f7-31a0afedcbef",
   "metadata": {},
   "outputs": [
    {
     "data": {
      "text/plain": [
       "array([[2., 2., 3., 3.],\n",
       "       [4., 5., 3., 3.],\n",
       "       [7., 3., 1., 8.],\n",
       "       [4., 1., 1., 1.]])"
      ]
     },
     "execution_count": 33,
     "metadata": {},
     "output_type": "execute_result"
    }
   ],
   "source": [
    "V.dot(ve)"
   ]
  },
  {
   "cell_type": "markdown",
   "id": "4f334b28-e450-4560-ba87-5dbb8f8c5dbe",
   "metadata": {},
   "source": [
    "## Inverse of a matrix"
   ]
  },
  {
   "cell_type": "code",
   "execution_count": 51,
   "id": "b52bc8c8-2764-4303-9fba-f8bd728d5cd5",
   "metadata": {},
   "outputs": [
    {
     "data": {
      "text/plain": [
       "array([[-0.7173913 ,  1.97826087, -0.5       ,  0.56521739],\n",
       "       [ 1.80434783, -4.36956522,  1.16666667, -1.39130435],\n",
       "       [-0.02173913, -0.15217391,  0.16666667, -0.04347826],\n",
       "       [-0.30434783,  0.86956522, -0.33333333,  0.39130435]])"
      ]
     },
     "execution_count": 51,
     "metadata": {},
     "output_type": "execute_result"
    }
   ],
   "source": [
    "V = np.random.randint(low=0, high=10, size=(4,4) )\n",
    "v_inv=np.linalg.inv(V)\n",
    "v_inv"
   ]
  },
  {
   "cell_type": "code",
   "execution_count": 55,
   "id": "b3cc8b0f-1aac-4e69-bb89-b717f31a7f11",
   "metadata": {},
   "outputs": [
    {
     "data": {
      "text/plain": [
       "array([[ 1.00000000e+00, -1.33226763e-15, -2.77555756e-15,\n",
       "        -2.55351296e-15],\n",
       "       [ 3.55271368e-15,  1.00000000e+00,  4.44089210e-15,\n",
       "         6.21724894e-15],\n",
       "       [ 6.24500451e-17, -1.38777878e-17,  1.00000000e+00,\n",
       "         6.93889390e-18],\n",
       "       [-4.99600361e-16, -3.33066907e-16, -5.55111512e-17,\n",
       "         1.00000000e+00]])"
      ]
     },
     "execution_count": 55,
     "metadata": {},
     "output_type": "execute_result"
    }
   ],
   "source": [
    "result=v_inv.dot(V)\n",
    "result"
   ]
  },
  {
   "cell_type": "markdown",
   "id": "818fd6f3-2278-48ff-8ba2-6e8214381b45",
   "metadata": {},
   "source": [
    "this crazy ass numbers is just floating point presicion issues "
   ]
  },
  {
   "cell_type": "code",
   "execution_count": 58,
   "id": "6d7319a7-7305-42f6-8e2b-775dd79c1388",
   "metadata": {},
   "outputs": [],
   "source": [
    "result[np.abs(result) < 1e-15] = 0"
   ]
  },
  {
   "cell_type": "code",
   "execution_count": 59,
   "id": "6c1473da-e5fd-4260-9695-3844d2b95079",
   "metadata": {},
   "outputs": [
    {
     "name": "stdout",
     "output_type": "stream",
     "text": [
      "[[ 1.00000000e+00 -1.33226763e-15 -2.77555756e-15 -2.55351296e-15]\n",
      " [ 3.55271368e-15  1.00000000e+00  4.44089210e-15  6.21724894e-15]\n",
      " [ 0.00000000e+00  0.00000000e+00  1.00000000e+00  0.00000000e+00]\n",
      " [ 0.00000000e+00  0.00000000e+00  0.00000000e+00  1.00000000e+00]]\n"
     ]
    }
   ],
   "source": [
    "print(result)"
   ]
  },
  {
   "cell_type": "code",
   "execution_count": null,
   "id": "1342ad5a-2bcf-427b-8071-1b70cbc67d6d",
   "metadata": {},
   "outputs": [],
   "source": []
  }
 ],
 "metadata": {
  "kernelspec": {
   "display_name": "Python 3 (ipykernel)",
   "language": "python",
   "name": "python3"
  },
  "language_info": {
   "codemirror_mode": {
    "name": "ipython",
    "version": 3
   },
   "file_extension": ".py",
   "mimetype": "text/x-python",
   "name": "python",
   "nbconvert_exporter": "python",
   "pygments_lexer": "ipython3",
   "version": "3.12.1"
  }
 },
 "nbformat": 4,
 "nbformat_minor": 5
}
