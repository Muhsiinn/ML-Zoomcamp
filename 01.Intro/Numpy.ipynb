{
 "cells": [
  {
   "cell_type": "code",
   "execution_count": 1,
   "id": "08859bab-4f4c-4e67-8dfa-4550aa7d576e",
   "metadata": {},
   "outputs": [],
   "source": [
    "import numpy as np "
   ]
  },
  {
   "cell_type": "code",
   "execution_count": 2,
   "id": "0d1a48ff-9292-4c22-bd5b-571a47cb7e10",
   "metadata": {},
   "outputs": [
    {
     "data": {
      "text/plain": [
       "array([0., 0., 0., 0., 0.])"
      ]
     },
     "execution_count": 2,
     "metadata": {},
     "output_type": "execute_result"
    }
   ],
   "source": [
    "np.zeros(5)"
   ]
  },
  {
   "cell_type": "code",
   "execution_count": 3,
   "id": "d02ce683-6843-41a8-9b23-318a559d791c",
   "metadata": {},
   "outputs": [
    {
     "data": {
      "text/plain": [
       "array([1., 1., 1., 1., 1.])"
      ]
     },
     "execution_count": 3,
     "metadata": {},
     "output_type": "execute_result"
    }
   ],
   "source": [
    "np.ones(5)"
   ]
  },
  {
   "cell_type": "code",
   "execution_count": 4,
   "id": "fa646678-31a1-4ccf-9729-fadabf9c8ffb",
   "metadata": {},
   "outputs": [
    {
     "data": {
      "text/plain": [
       "array([69, 69, 69, 69, 69, 69, 69, 69, 69, 69])"
      ]
     },
     "execution_count": 4,
     "metadata": {},
     "output_type": "execute_result"
    }
   ],
   "source": [
    "np.full(10,69)"
   ]
  },
  {
   "cell_type": "code",
   "execution_count": 7,
   "id": "d4a83b44-a1d7-4eaf-9187-a06b684cd28f",
   "metadata": {},
   "outputs": [],
   "source": [
    "list = [89,23,34,231,43,7,6,88]"
   ]
  },
  {
   "cell_type": "code",
   "execution_count": 9,
   "id": "7adf553c-a8e4-4638-b863-0a3afedbf296",
   "metadata": {},
   "outputs": [],
   "source": [
    "a = np.array(list)"
   ]
  },
  {
   "cell_type": "code",
   "execution_count": 10,
   "id": "72420e22-adc6-4281-803f-88e51f20d7e3",
   "metadata": {},
   "outputs": [
    {
     "data": {
      "text/plain": [
       "np.int64(34)"
      ]
     },
     "execution_count": 10,
     "metadata": {},
     "output_type": "execute_result"
    }
   ],
   "source": [
    "a[2]"
   ]
  },
  {
   "cell_type": "code",
   "execution_count": 12,
   "id": "ac792eb8-28b0-4d9c-9272-0c304956d1d7",
   "metadata": {},
   "outputs": [
    {
     "data": {
      "text/plain": [
       "np.int64(69)"
      ]
     },
     "execution_count": 12,
     "metadata": {},
     "output_type": "execute_result"
    }
   ],
   "source": [
    "a[2] = 69\n",
    "a[2]"
   ]
  },
  {
   "cell_type": "code",
   "execution_count": 15,
   "id": "d1ab1f54-9254-4ae3-8d42-0941ce130d3c",
   "metadata": {},
   "outputs": [
    {
     "data": {
      "text/plain": [
       "array([0, 1, 2, 3, 4, 5, 6, 7, 8, 9])"
      ]
     },
     "execution_count": 15,
     "metadata": {},
     "output_type": "execute_result"
    }
   ],
   "source": [
    "np.arange(10) #upto 10 "
   ]
  },
  {
   "cell_type": "code",
   "execution_count": 16,
   "id": "99d5f39f-3fe6-4246-a990-ab47ca0b6cd2",
   "metadata": {},
   "outputs": [
    {
     "data": {
      "text/plain": [
       "array([5, 6, 7, 8, 9])"
      ]
     },
     "execution_count": 16,
     "metadata": {},
     "output_type": "execute_result"
    }
   ],
   "source": [
    "np.arange(5,10)"
   ]
  },
  {
   "cell_type": "code",
   "execution_count": 21,
   "id": "e63e7e0a-28ed-4e96-9958-e2a4c1c3e547",
   "metadata": {},
   "outputs": [
    {
     "data": {
      "text/plain": [
       "array([  0.,  25.,  50.,  75., 100.])"
      ]
     },
     "execution_count": 21,
     "metadata": {},
     "output_type": "execute_result"
    }
   ],
   "source": [
    "np.linspace(0,100,5)"
   ]
  },
  {
   "cell_type": "markdown",
   "id": "88cc67ea-c66d-4be1-bc70-74a5a8dd1e8b",
   "metadata": {},
   "source": [
    "## Multi-Dimentional arrays"
   ]
  },
  {
   "cell_type": "code",
   "execution_count": 24,
   "id": "aca22175-bb2e-4156-8e63-311bb54955a8",
   "metadata": {},
   "outputs": [
    {
     "data": {
      "text/plain": [
       "array([[0., 0.],\n",
       "       [0., 0.],\n",
       "       [0., 0.],\n",
       "       [0., 0.],\n",
       "       [0., 0.]])"
      ]
     },
     "execution_count": 24,
     "metadata": {},
     "output_type": "execute_result"
    }
   ],
   "source": [
    "np.zeros((5,2))"
   ]
  },
  {
   "cell_type": "code",
   "execution_count": 30,
   "id": "e62113d4-3e2d-42b1-844f-9938b9279623",
   "metadata": {},
   "outputs": [],
   "source": [
    "n= np.array([[1,2,3],\n",
    "           [90,80,89],\n",
    "           [56,34,69]])"
   ]
  },
  {
   "cell_type": "code",
   "execution_count": 32,
   "id": "8e952e51-0bd1-4e1e-ac0a-774bc358dd60",
   "metadata": {},
   "outputs": [
    {
     "data": {
      "text/plain": [
       "np.int64(2)"
      ]
     },
     "execution_count": 32,
     "metadata": {},
     "output_type": "execute_result"
    }
   ],
   "source": [
    "n[0,1]"
   ]
  },
  {
   "cell_type": "code",
   "execution_count": 33,
   "id": "9054aab2-8ac2-458b-a6f8-4423c7969ba9",
   "metadata": {},
   "outputs": [],
   "source": [
    "n[0,1]=999"
   ]
  },
  {
   "cell_type": "code",
   "execution_count": 34,
   "id": "dab46c8e-925e-462f-80c7-7ec550d41442",
   "metadata": {},
   "outputs": [
    {
     "data": {
      "text/plain": [
       "np.int64(999)"
      ]
     },
     "execution_count": 34,
     "metadata": {},
     "output_type": "execute_result"
    }
   ],
   "source": [
    "n[0,1]"
   ]
  },
  {
   "cell_type": "code",
   "execution_count": 35,
   "id": "677c1350-f9e5-47ef-a00a-5990fda65651",
   "metadata": {},
   "outputs": [
    {
     "data": {
      "text/plain": [
       "array([90, 80, 89])"
      ]
     },
     "execution_count": 35,
     "metadata": {},
     "output_type": "execute_result"
    }
   ],
   "source": [
    "n[1] #get the rows"
   ]
  },
  {
   "cell_type": "code",
   "execution_count": 37,
   "id": "35a7a09e-583c-446c-bf0a-92ed64dbd428",
   "metadata": {},
   "outputs": [
    {
     "data": {
      "text/plain": [
       "array([ 3, 89, 69])"
      ]
     },
     "execution_count": 37,
     "metadata": {},
     "output_type": "execute_result"
    }
   ],
   "source": [
    "n[:,2] #to get columns"
   ]
  },
  {
   "cell_type": "code",
   "execution_count": 38,
   "id": "00f18eb6-8bde-40b1-a529-931596648d98",
   "metadata": {},
   "outputs": [],
   "source": [
    "n[:,2] = [1,1,1]"
   ]
  },
  {
   "cell_type": "code",
   "execution_count": 39,
   "id": "31d5b836-2152-4dcd-b88c-5eb5d70f65a3",
   "metadata": {},
   "outputs": [
    {
     "data": {
      "text/plain": [
       "array([1, 1, 1])"
      ]
     },
     "execution_count": 39,
     "metadata": {},
     "output_type": "execute_result"
    }
   ],
   "source": [
    "n[:,2]"
   ]
  },
  {
   "cell_type": "code",
   "execution_count": 40,
   "id": "046bf09f-c3fb-4472-a77d-ddd8873f9017",
   "metadata": {},
   "outputs": [
    {
     "data": {
      "text/plain": [
       "array([[  1, 999,   1],\n",
       "       [ 90,  80,   1],\n",
       "       [ 56,  34,   1]])"
      ]
     },
     "execution_count": 40,
     "metadata": {},
     "output_type": "execute_result"
    }
   ],
   "source": [
    "n"
   ]
  },
  {
   "cell_type": "markdown",
   "id": "bc4f522a-3ee6-4d61-a950-89e099a858b3",
   "metadata": {},
   "source": [
    "## Randomly generated arrays"
   ]
  },
  {
   "cell_type": "code",
   "execution_count": 41,
   "id": "8320ac2b-3a34-4d9f-95f7-31f096bb124d",
   "metadata": {},
   "outputs": [
    {
     "data": {
      "text/plain": [
       "array([[0.96234775, 0.58833618],\n",
       "       [0.72177094, 0.64624449],\n",
       "       [0.94196031, 0.92773062],\n",
       "       [0.36829745, 0.18412668],\n",
       "       [0.75530314, 0.28144038]])"
      ]
     },
     "execution_count": 41,
     "metadata": {},
     "output_type": "execute_result"
    }
   ],
   "source": [
    "np.random.rand(5,2)"
   ]
  },
  {
   "cell_type": "code",
   "execution_count": 43,
   "id": "b05f44aa-d75a-435d-ac46-6351ad74c242",
   "metadata": {},
   "outputs": [
    {
     "data": {
      "text/plain": [
       "array([[0.77132064, 0.02075195],\n",
       "       [0.63364823, 0.74880388],\n",
       "       [0.49850701, 0.22479665],\n",
       "       [0.19806286, 0.76053071],\n",
       "       [0.16911084, 0.08833981]])"
      ]
     },
     "execution_count": 43,
     "metadata": {},
     "output_type": "execute_result"
    }
   ],
   "source": [
    "np.random.seed(10)   #we use the seed to fix the random. I mean if we run this again we will get the  same numbers\n",
    "np.random.rand(5,2)"
   ]
  },
  {
   "cell_type": "code",
   "execution_count": 44,
   "id": "74a92b67-84ac-403a-a4ed-eae289fabe58",
   "metadata": {},
   "outputs": [
    {
     "data": {
      "text/plain": [
       "array([[ 0.26551159,  0.10854853],\n",
       "       [ 0.00429143, -0.17460021],\n",
       "       [ 0.43302619,  1.20303737],\n",
       "       [-0.96506567,  1.02827408],\n",
       "       [ 0.22863013,  0.44513761]])"
      ]
     },
     "execution_count": 44,
     "metadata": {},
     "output_type": "execute_result"
    }
   ],
   "source": [
    "np.random.randn(5,2)"
   ]
  },
  {
   "cell_type": "code",
   "execution_count": 45,
   "id": "b41dafcf-2d02-4a8d-9830-c7e6592c6a5f",
   "metadata": {},
   "outputs": [
    {
     "data": {
      "text/plain": [
       "array([[54.2544368 , 14.21700476],\n",
       "       [37.33407601, 67.41336151],\n",
       "       [44.18331744, 43.40139933],\n",
       "       [61.77669785, 51.31382426],\n",
       "       [65.03971819, 60.10389534]])"
      ]
     },
     "execution_count": 45,
     "metadata": {},
     "output_type": "execute_result"
    }
   ],
   "source": [
    "100*np.random.rand(5,2)"
   ]
  },
  {
   "cell_type": "code",
   "execution_count": 48,
   "id": "4101b979-9bed-478e-8530-ae615eecb9d3",
   "metadata": {},
   "outputs": [
    {
     "data": {
      "text/plain": [
       "array([[23, 94],\n",
       "       [11, 28],\n",
       "       [74, 88],\n",
       "       [ 9, 15],\n",
       "       [18, 80]])"
      ]
     },
     "execution_count": 48,
     "metadata": {},
     "output_type": "execute_result"
    }
   ],
   "source": [
    "np.random.randint(low=0,high=100,size=(5,2))"
   ]
  },
  {
   "cell_type": "markdown",
   "id": "ca4bc3aa-2b39-4543-b872-798980a3af26",
   "metadata": {},
   "source": [
    "## Element-Wise operations"
   ]
  },
  {
   "cell_type": "code",
   "execution_count": 50,
   "id": "30298c49-20dd-4a5d-8850-3a9b9dc647a9",
   "metadata": {},
   "outputs": [
    {
     "data": {
      "text/plain": [
       "array([0, 1, 2, 3, 4])"
      ]
     },
     "execution_count": 50,
     "metadata": {},
     "output_type": "execute_result"
    }
   ],
   "source": [
    "a = np.arange(5)\n",
    "a "
   ]
  },
  {
   "cell_type": "code",
   "execution_count": 64,
   "id": "dd09f7ea-8b5a-419e-86ae-db8da429b52b",
   "metadata": {},
   "outputs": [],
   "source": [
    "c = a + 1 "
   ]
  },
  {
   "cell_type": "code",
   "execution_count": 52,
   "id": "f334d514-a99b-4620-bcab-27274773b874",
   "metadata": {},
   "outputs": [
    {
     "data": {
      "text/plain": [
       "array([-1,  0,  1,  2,  3])"
      ]
     },
     "execution_count": 52,
     "metadata": {},
     "output_type": "execute_result"
    }
   ],
   "source": [
    "a - 1 "
   ]
  },
  {
   "cell_type": "code",
   "execution_count": 53,
   "id": "02a2e8a0-75d4-464b-8636-dd3debd507b0",
   "metadata": {},
   "outputs": [
    {
     "data": {
      "text/plain": [
       "array([  0, 100, 200, 300, 400])"
      ]
     },
     "execution_count": 53,
     "metadata": {},
     "output_type": "execute_result"
    }
   ],
   "source": [
    "a - 1  * 100"
   ]
  },
  {
   "cell_type": "code",
   "execution_count": 55,
   "id": "beaf7106-0a66-4089-8eb9-170457d2ce42",
   "metadata": {},
   "outputs": [
    {
     "data": {
      "text/plain": [
       "array([100, 200, 300, 400, 500])"
      ]
     },
     "execution_count": 55,
     "metadata": {},
     "output_type": "execute_result"
    }
   ],
   "source": [
    "(a + 1)  * 100"
   ]
  },
  {
   "cell_type": "code",
   "execution_count": 58,
   "id": "946b77c3-02c4-46f1-a49b-840ed4cd3226",
   "metadata": {},
   "outputs": [],
   "source": [
    "b = ((a + 1)  * 100)**2"
   ]
  },
  {
   "cell_type": "code",
   "execution_count": 59,
   "id": "e069d0b4-3382-48b9-8654-3349be42704b",
   "metadata": {},
   "outputs": [
    {
     "data": {
      "text/plain": [
       "array([ 10000,  40001,  90002, 160003, 250004])"
      ]
     },
     "execution_count": 59,
     "metadata": {},
     "output_type": "execute_result"
    }
   ],
   "source": [
    "a + b "
   ]
  },
  {
   "cell_type": "markdown",
   "id": "8775b1ae-2ccf-44d0-92a0-722176f09f03",
   "metadata": {},
   "source": [
    "## Comparison operations"
   ]
  },
  {
   "cell_type": "code",
   "execution_count": 62,
   "id": "610cd0e4-a925-4a45-afbb-fccfbdc7b986",
   "metadata": {},
   "outputs": [
    {
     "data": {
      "text/plain": [
       "array([False, False, False,  True,  True])"
      ]
     },
     "execution_count": 62,
     "metadata": {},
     "output_type": "execute_result"
    }
   ],
   "source": [
    "b >= 100000"
   ]
  },
  {
   "cell_type": "code",
   "execution_count": 63,
   "id": "a63d7fba-7af9-4f4b-b404-59be3e376476",
   "metadata": {},
   "outputs": [
    {
     "data": {
      "text/plain": [
       "array([False, False, False, False, False])"
      ]
     },
     "execution_count": 63,
     "metadata": {},
     "output_type": "execute_result"
    }
   ],
   "source": [
    "a > b"
   ]
  },
  {
   "cell_type": "code",
   "execution_count": 66,
   "id": "7926366e-723c-49ee-98d1-3582faaf8970",
   "metadata": {},
   "outputs": [
    {
     "data": {
      "text/plain": [
       "array([0, 1, 2, 3, 4])"
      ]
     },
     "execution_count": 66,
     "metadata": {},
     "output_type": "execute_result"
    }
   ],
   "source": [
    "a [a<c] #accesing the a array with boolean array. "
   ]
  },
  {
   "cell_type": "code",
   "execution_count": 67,
   "id": "695852de-52de-4e35-9bed-b68ef7a134c0",
   "metadata": {},
   "outputs": [
    {
     "data": {
      "text/plain": [
       "np.int64(10000)"
      ]
     },
     "execution_count": 67,
     "metadata": {},
     "output_type": "execute_result"
    }
   ],
   "source": [
    "b.min()"
   ]
  },
  {
   "cell_type": "code",
   "execution_count": 68,
   "id": "ca2475b5-e8b7-4ae7-99ed-2e4f4425ff5a",
   "metadata": {},
   "outputs": [
    {
     "data": {
      "text/plain": [
       "np.int64(10)"
      ]
     },
     "execution_count": 68,
     "metadata": {},
     "output_type": "execute_result"
    }
   ],
   "source": [
    "a.sum()"
   ]
  },
  {
   "cell_type": "code",
   "execution_count": 70,
   "id": "dc148a3d-4a7e-4775-9444-68374a4b38f5",
   "metadata": {},
   "outputs": [
    {
     "data": {
      "text/plain": [
       "np.float64(2.0)"
      ]
     },
     "execution_count": 70,
     "metadata": {},
     "output_type": "execute_result"
    }
   ],
   "source": [
    "a.mean()"
   ]
  },
  {
   "cell_type": "code",
   "execution_count": 71,
   "id": "aa4e43a3-5111-42e4-8610-b7ea4e8e2a97",
   "metadata": {},
   "outputs": [
    {
     "data": {
      "text/plain": [
       "np.float64(1.4142135623730951)"
      ]
     },
     "execution_count": 71,
     "metadata": {},
     "output_type": "execute_result"
    }
   ],
   "source": [
    "a.std()"
   ]
  },
  {
   "cell_type": "code",
   "execution_count": null,
   "id": "e1fce758-78a2-4928-8920-42075af1fdc1",
   "metadata": {},
   "outputs": [],
   "source": []
  }
 ],
 "metadata": {
  "kernelspec": {
   "display_name": "Python 3 (ipykernel)",
   "language": "python",
   "name": "python3"
  },
  "language_info": {
   "codemirror_mode": {
    "name": "ipython",
    "version": 3
   },
   "file_extension": ".py",
   "mimetype": "text/x-python",
   "name": "python",
   "nbconvert_exporter": "python",
   "pygments_lexer": "ipython3",
   "version": "3.12.1"
  }
 },
 "nbformat": 4,
 "nbformat_minor": 5
}
